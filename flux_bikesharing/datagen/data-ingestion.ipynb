{
 "cells": [
  {
   "cell_type": "code",
   "execution_count": null,
   "id": "5e4211d3",
   "metadata": {},
   "outputs": [],
   "source": [
    "!pip install influxdb-client"
   ]
  },
  {
   "cell_type": "code",
   "execution_count": 24,
   "metadata": {},
   "outputs": [],
   "source": [
    "import pandas as pd\n",
    "import seaborn as sns\n",
    "\n",
    "# read data from csv\n",
    "df = pd.read_csv('bikeSharing.csv')\n",
    "\n",
    "# cast datetime column from string to dteday format\n",
    "df['datetime'] = pd.to_datetime(df['dteday'])\n",
    "\n",
    "# check the results\n",
    "df.info()"
   ]
  },
  {
   "cell_type": "code",
   "execution_count": 8,
   "metadata": {},
   "outputs": [],
   "source": [
    "from datetime import datetime\n",
    "\n",
    "from influxdb_client import InfluxDBClient, Point, WritePrecision\n",
    "from influxdb_client.client.write_api import SYNCHRONOUS\n",
    "\n",
    "# You can generate an API token from the \"API Tokens Tab\" in the UI\n",
    "token = \"sda-token\"\n",
    "org = \"sda\"\n",
    "bucket = \"training\""
   ]
  },
  {
   "cell_type": "code",
   "execution_count": 32,
   "metadata": {},
   "outputs": [],
   "source": [
    "# Create a line protocol data sequence by iterating over the data\n",
    "sequence = []\n",
    "for index, row in df.iterrows():\n",
    "    \n",
    "    pointWe = (Point(\"weatherInfo\")\n",
    "            .tag(\"area\", \"Washington DC\")  \n",
    "            .field(\"temp\", row['temp'])\n",
    "            .field(\"atemp\", row['atemp'])\n",
    "            .field(\"humidity\", row['hum'])\n",
    "            .field(\"windspeed\", row['windspeed'])\n",
    "            .field(\"weather\", row['weathersit'])\n",
    "            .time(row['datetime']))\n",
    "    sequence+= [pointWe.to_line_protocol()]\n",
    "    \n",
    "    pointBsc = (Point(\"bikesharingInfo\")\n",
    "            .tag(\"area\", \"Washington DC\") \n",
    "            .tag(\"user\", \"casual\")\n",
    "            .field(\"cnt\", row['casual'])\n",
    "            .time(row['datetime']))\n",
    "    sequence+= [pointBsc.to_line_protocol()]\n",
    "    \n",
    "    pointBsr = (Point(\"bikesharingInfo\")\n",
    "            .tag(\"area\", \"Washington DC\") \n",
    "            .tag(\"user\", \"registered\")\n",
    "            .field(\"cnt\", row['registered'])\n",
    "            .time(row['datetime']))\n",
    "    sequence+= [pointBsr.to_line_protocol()]"
   ]
  },
  {
   "cell_type": "code",
   "execution_count": 33,
   "metadata": {},
   "outputs": [],
   "source": [
    "# write data to influxdb\n",
    "with InfluxDBClient(url=\"http://influxdb:8086\", token=token, org=org) as client:\n",
    "    write_api = client.write_api(write_options=SYNCHRONOUS)\n",
    "    write_api.write(bucket, org, sequence)"
   ]
  }
 ],
 "metadata": {
  "kernelspec": {
   "display_name": "Python 3",
   "language": "python",
   "name": "python3"
  },
  "language_info": {
   "codemirror_mode": {
    "name": "ipython",
    "version": 3
   },
   "file_extension": ".py",
   "mimetype": "text/x-python",
   "name": "python",
   "nbconvert_exporter": "python",
   "pygments_lexer": "ipython3",
   "version": "3.8.3"
  }
 },
 "nbformat": 4,
 "nbformat_minor": 5
}
