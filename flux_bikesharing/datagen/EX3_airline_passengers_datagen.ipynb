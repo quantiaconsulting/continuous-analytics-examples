{
 "cells": [
  {
   "cell_type": "code",
   "execution_count": 13,
   "id": "boxed-cutting",
   "metadata": {},
   "outputs": [
    {
     "name": "stdout",
     "output_type": "stream",
     "text": [
      "Requirement already satisfied: influxdb-client in /opt/conda/lib/python3.8/site-packages (1.24.0)\n",
      "Requirement already satisfied: certifi>=14.05.14 in /opt/conda/lib/python3.8/site-packages (from influxdb-client) (2020.12.5)\n",
      "Requirement already satisfied: six>=1.10 in /opt/conda/lib/python3.8/site-packages (from influxdb-client) (1.15.0)\n",
      "Requirement already satisfied: python-dateutil>=2.5.3 in /opt/conda/lib/python3.8/site-packages (from influxdb-client) (2.8.1)\n",
      "Requirement already satisfied: urllib3>=1.15.1 in /opt/conda/lib/python3.8/site-packages (from influxdb-client) (1.26.3)\n",
      "Requirement already satisfied: setuptools>=21.0.0 in /opt/conda/lib/python3.8/site-packages (from influxdb-client) (49.6.0.post20210108)\n",
      "Requirement already satisfied: rx>=3.0.1 in /opt/conda/lib/python3.8/site-packages (from influxdb-client) (3.2.0)\n",
      "Requirement already satisfied: pytz>=2019.1 in /opt/conda/lib/python3.8/site-packages (from influxdb-client) (2021.1)\n",
      "Note: you may need to restart the kernel to use updated packages.\n"
     ]
    }
   ],
   "source": [
    "pip install influxdb-client"
   ]
  },
  {
   "cell_type": "code",
   "execution_count": 14,
   "id": "suburban-cycling",
   "metadata": {},
   "outputs": [],
   "source": [
    "import pandas as pd\n",
    "\n",
    "airline = pd.read_csv(\"airline_passengers.csv\")\n",
    "train_airline = airline[:108] \n",
    "test_airline = airline[108:] "
   ]
  },
  {
   "cell_type": "code",
   "execution_count": 15,
   "id": "recorded-toddler",
   "metadata": {},
   "outputs": [
    {
     "data": {
      "text/plain": [
       "<AxesSubplot:>"
      ]
     },
     "execution_count": 15,
     "metadata": {},
     "output_type": "execute_result"
    },
    {
     "data": {
      "image/png": "[encoded data removed]",
      "text/plain": [
       "<Figure size 432x288 with 1 Axes>"
      ]
     },
     "metadata": {
      "needs_background": "light"
     },
     "output_type": "display_data"
    }
   ],
   "source": [
    "ax = train_airline.plot()\n",
    "test_airline.plot(ax=ax)"
   ]
  },
  {
   "cell_type": "code",
   "execution_count": 16,
   "id": "graduate-mirror",
   "metadata": {},
   "outputs": [],
   "source": [
    "from datetime import datetime\n",
    "\n",
    "from influxdb_client import InfluxDBClient, Point, WritePrecision\n",
    "from influxdb_client.client.write_api import SYNCHRONOUS\n",
    "\n",
    "# Local\n",
    "url = \"http://influxdb:8086\"\n",
    "token = \"sda-token\"\n",
    "org = \"sda\"\n",
    "bucket = \"training\"\n",
    "\n",
    "client = InfluxDBClient(url=url, token=token)\n",
    "write_api = client.write_api(write_options=SYNCHRONOUS)"
   ]
  },
  {
   "cell_type": "code",
   "execution_count": 17,
   "id": "adult-resolution",
   "metadata": {},
   "outputs": [],
   "source": [
    "from datetime import datetime\n",
    "from datetime import timedelta\n",
    "\n",
    "base = datetime.now().replace(second=0,microsecond=0) - timedelta(minutes=3)"
   ]
  },
  {
   "cell_type": "code",
   "execution_count": 18,
   "id": "impressed-collectible",
   "metadata": {},
   "outputs": [
    {
     "data": {
      "text/plain": [
       "datetime.datetime(2021, 12, 8, 14, 9)"
      ]
     },
     "execution_count": 18,
     "metadata": {},
     "output_type": "execute_result"
    }
   ],
   "source": [
    "base"
   ]
  },
  {
   "cell_type": "code",
   "execution_count": 19,
   "id": "sapphire-regulation",
   "metadata": {},
   "outputs": [
    {
     "name": "stdout",
     "output_type": "stream",
     "text": [
      "airline-train passengers=112i 1638972541000000000\n",
      "airline-train passengers=118i 1638972542000000000\n",
      "airline-train passengers=132i 1638972543000000000\n",
      "airline-train passengers=129i 1638972544000000000\n",
      "airline-train passengers=121i 1638972545000000000\n",
      "airline-train passengers=135i 1638972546000000000\n",
      "airline-train passengers=148i 1638972547000000000\n",
      "airline-train passengers=148i 1638972548000000000\n",
      "airline-train passengers=136i 1638972549000000000\n",
      "airline-train passengers=119i 1638972550000000000\n",
      "airline-train passengers=104i 1638972551000000000\n",
      "airline-train passengers=118i 1638972552000000000\n",
      "airline-train passengers=115i 1638972553000000000\n",
      "airline-train passengers=126i 1638972554000000000\n",
      "airline-train passengers=141i 1638972555000000000\n",
      "airline-train passengers=135i 1638972556000000000\n",
      "airline-train passengers=125i 1638972557000000000\n",
      "airline-train passengers=149i 1638972558000000000\n",
      "airline-train passengers=170i 1638972559000000000\n",
      "airline-train passengers=170i 1638972560000000000\n",
      "airline-train passengers=158i 1638972561000000000\n",
      "airline-train passengers=133i 1638972562000000000\n",
      "airline-train passengers=114i 1638972563000000000\n",
      "airline-train passengers=140i 1638972564000000000\n",
      "airline-train passengers=145i 1638972565000000000\n",
      "airline-train passengers=150i 1638972566000000000\n",
      "airline-train passengers=178i 1638972567000000000\n",
      "airline-train passengers=163i 1638972568000000000\n",
      "airline-train passengers=172i 1638972569000000000\n",
      "airline-train passengers=178i 1638972570000000000\n",
      "airline-train passengers=199i 1638972571000000000\n",
      "airline-train passengers=199i 1638972572000000000\n",
      "airline-train passengers=184i 1638972573000000000\n",
      "airline-train passengers=162i 1638972574000000000\n",
      "airline-train passengers=146i 1638972575000000000\n",
      "airline-train passengers=166i 1638972576000000000\n",
      "airline-train passengers=171i 1638972577000000000\n",
      "airline-train passengers=180i 1638972578000000000\n",
      "airline-train passengers=193i 1638972579000000000\n",
      "airline-train passengers=181i 1638972580000000000\n",
      "airline-train passengers=183i 1638972581000000000\n",
      "airline-train passengers=218i 1638972582000000000\n",
      "airline-train passengers=230i 1638972583000000000\n",
      "airline-train passengers=242i 1638972584000000000\n",
      "airline-train passengers=209i 1638972585000000000\n",
      "airline-train passengers=191i 1638972586000000000\n",
      "airline-train passengers=172i 1638972587000000000\n",
      "airline-train passengers=194i 1638972588000000000\n",
      "airline-train passengers=196i 1638972589000000000\n",
      "airline-train passengers=196i 1638972590000000000\n",
      "airline-train passengers=236i 1638972591000000000\n",
      "airline-train passengers=235i 1638972592000000000\n",
      "airline-train passengers=229i 1638972593000000000\n",
      "airline-train passengers=243i 1638972594000000000\n",
      "airline-train passengers=264i 1638972595000000000\n",
      "airline-train passengers=272i 1638972596000000000\n",
      "airline-train passengers=237i 1638972597000000000\n",
      "airline-train passengers=211i 1638972598000000000\n",
      "airline-train passengers=180i 1638972599000000000\n",
      "airline-train passengers=201i 1638972600000000000\n",
      "airline-train passengers=204i 1638972601000000000\n",
      "airline-train passengers=188i 1638972602000000000\n",
      "airline-train passengers=235i 1638972603000000000\n",
      "airline-train passengers=227i 1638972604000000000\n",
      "airline-train passengers=234i 1638972605000000000\n",
      "airline-train passengers=264i 1638972606000000000\n",
      "airline-train passengers=302i 1638972607000000000\n",
      "airline-train passengers=293i 1638972608000000000\n",
      "airline-train passengers=259i 1638972609000000000\n",
      "airline-train passengers=229i 1638972610000000000\n",
      "airline-train passengers=203i 1638972611000000000\n",
      "airline-train passengers=229i 1638972612000000000\n",
      "airline-train passengers=242i 1638972613000000000\n",
      "airline-train passengers=233i 1638972614000000000\n",
      "airline-train passengers=267i 1638972615000000000\n",
      "airline-train passengers=269i 1638972616000000000\n",
      "airline-train passengers=270i 1638972617000000000\n",
      "airline-train passengers=315i 1638972618000000000\n",
      "airline-train passengers=364i 1638972619000000000\n",
      "airline-train passengers=347i 1638972620000000000\n",
      "airline-train passengers=312i 1638972621000000000\n",
      "airline-train passengers=274i 1638972622000000000\n",
      "airline-train passengers=237i 1638972623000000000\n",
      "airline-train passengers=278i 1638972624000000000\n",
      "airline-train passengers=284i 1638972625000000000\n",
      "airline-train passengers=277i 1638972626000000000\n",
      "airline-train passengers=317i 1638972627000000000\n",
      "airline-train passengers=313i 1638972628000000000\n",
      "airline-train passengers=318i 1638972629000000000\n",
      "airline-train passengers=374i 1638972630000000000\n",
      "airline-train passengers=413i 1638972631000000000\n",
      "airline-train passengers=405i 1638972632000000000\n",
      "airline-train passengers=355i 1638972633000000000\n",
      "airline-train passengers=306i 1638972634000000000\n",
      "airline-train passengers=271i 1638972635000000000\n",
      "airline-train passengers=306i 1638972636000000000\n",
      "airline-train passengers=315i 1638972637000000000\n",
      "airline-train passengers=301i 1638972638000000000\n",
      "airline-train passengers=356i 1638972639000000000\n",
      "airline-train passengers=348i 1638972640000000000\n",
      "airline-train passengers=355i 1638972641000000000\n",
      "airline-train passengers=422i 1638972642000000000\n",
      "airline-train passengers=465i 1638972643000000000\n",
      "airline-train passengers=467i 1638972644000000000\n",
      "airline-train passengers=404i 1638972645000000000\n",
      "airline-train passengers=347i 1638972646000000000\n",
      "airline-train passengers=305i 1638972647000000000\n",
      "airline-train passengers=336i 1638972648000000000\n",
      "airline-test passengers=340i 1638972649000000000\n",
      "airline-test passengers=318i 1638972650000000000\n",
      "airline-test passengers=362i 1638972651000000000\n",
      "airline-test passengers=348i 1638972652000000000\n",
      "airline-test passengers=363i 1638972653000000000\n",
      "airline-test passengers=435i 1638972654000000000\n",
      "airline-test passengers=491i 1638972655000000000\n",
      "airline-test passengers=505i 1638972656000000000\n",
      "airline-test passengers=404i 1638972657000000000\n",
      "airline-test passengers=359i 1638972658000000000\n",
      "airline-test passengers=310i 1638972659000000000\n",
      "airline-test passengers=337i 1638972660000000000\n",
      "airline-test passengers=360i 1638972661000000000\n",
      "airline-test passengers=342i 1638972662000000000\n",
      "airline-test passengers=406i 1638972663000000000\n",
      "airline-test passengers=396i 1638972664000000000\n",
      "airline-test passengers=420i 1638972665000000000\n",
      "airline-test passengers=472i 1638972666000000000\n",
      "airline-test passengers=548i 1638972667000000000\n",
      "airline-test passengers=559i 1638972668000000000\n",
      "airline-test passengers=463i 1638972669000000000\n",
      "airline-test passengers=407i 1638972670000000000\n",
      "airline-test passengers=362i 1638972671000000000\n",
      "airline-test passengers=405i 1638972672000000000\n",
      "airline-test passengers=417i 1638972673000000000\n",
      "airline-test passengers=391i 1638972674000000000\n",
      "airline-test passengers=419i 1638972675000000000\n",
      "airline-test passengers=461i 1638972676000000000\n",
      "airline-test passengers=472i 1638972677000000000\n",
      "airline-test passengers=535i 1638972678000000000\n",
      "airline-test passengers=622i 1638972679000000000\n",
      "airline-test passengers=606i 1638972680000000000\n",
      "airline-test passengers=508i 1638972681000000000\n",
      "airline-test passengers=461i 1638972682000000000\n",
      "airline-test passengers=390i 1638972683000000000\n",
      "airline-test passengers=432i 1638972684000000000\n"
     ]
    }
   ],
   "source": [
    "from random import gauss\n",
    "import time\n",
    "\n",
    "for index, row in train_airline.iterrows():\n",
    "    base += timedelta(seconds=1)\n",
    "    point = Point(\"airline-train\").field(\"passengers\", row['Thousands of Passengers']).time(base)\n",
    "    print(point.to_line_protocol())\n",
    "    write_api.write(bucket, org, point)\n",
    "    \n",
    "for index, row in test_airline.iterrows():\n",
    "    base += timedelta(seconds=1)\n",
    "    point = Point(\"airline-test\").field(\"passengers\", row['Thousands of Passengers']).time(base)\n",
    "    print(point.to_line_protocol())\n",
    "    write_api.write(bucket, org, point)"
   ]
  },
  {
   "cell_type": "code",
   "execution_count": null,
   "id": "unique-champagne",
   "metadata": {},
   "outputs": [],
   "source": []
  },
  {
   "cell_type": "code",
   "execution_count": null,
   "id": "noticed-column",
   "metadata": {},
   "outputs": [],
   "source": []
  },
  {
   "cell_type": "code",
   "execution_count": null,
   "id": "double-lambda",
   "metadata": {},
   "outputs": [],
   "source": []
  }
 ],
 "metadata": {
  "kernelspec": {
   "display_name": "Python 3",
   "language": "python",
   "name": "python3"
  },
  "language_info": {
   "codemirror_mode": {
    "name": "ipython",
    "version": 3
   },
   "file_extension": ".py",
   "mimetype": "text/x-python",
   "name": "python",
   "nbconvert_exporter": "python",
   "pygments_lexer": "ipython3",
   "version": "3.8.8"
  }
 },
 "nbformat": 4,
 "nbformat_minor": 5
}
